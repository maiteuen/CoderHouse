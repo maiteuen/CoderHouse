{
 "cells": [
  {
   "cell_type": "markdown",
   "metadata": {},
   "source": [
    "# Optimizando el stock para una PYME"
   ]
  },
  {
   "cell_type": "code",
   "execution_count": 2,
   "metadata": {},
   "outputs": [
    {
     "name": "stdout",
     "output_type": "stream",
     "text": [
      "<class 'list'>\n",
      "<class 'list'>\n",
      "200\n",
      "225\n",
      "232\n",
      "221\n",
      "243\n",
      "256\n",
      "255\n",
      "<class 'list'>\n",
      "{'Lunes': 200, 'Martes': 225, 'Miercoles': 232, 'Jueves': 221, 'Viernes': 243, 'Sabado': 256, 'Domingo': 255}\n",
      "[['Lunes', 'Martes', 'Miercoles', 'Jueves', 'Viernes', 'Sabado', 'Domingo']]\n"
     ]
    }
   ],
   "source": [
    "valores = [200, 225, 232, 221, 243, 256, 255]\n",
    "dias = ['Lunes','Martes','Miercoles','Jueves','Viernes','Sabado','Domingo']\n",
    "print(type(valores))\n",
    "print(type(dias))\n",
    "\n",
    "for i in valores:\n",
    "    print(i)\n",
    "\n",
    "valores_dias = dict(zip(dias,valores))\n",
    "print(type(dias))\n",
    "print(valores_dias)\n",
    "print([dias])"
   ]
  },
  {
   "cell_type": "code",
   "execution_count": 71,
   "metadata": {},
   "outputs": [
    {
     "name": "stdout",
     "output_type": "stream",
     "text": [
      "El valor de la accion del dia 4 es decir, el dia Jueves , marca un retroceso con repecto al dia anterior desde 232 a 221\n",
      "El valor de la accion del dia 7 es decir, el dia Domingo , marca un retroceso con repecto al dia anterior desde 256 a 255\n"
     ]
    }
   ],
   "source": [
    "j=1\n",
    "i=0\n",
    "for i in range(len(valores) - 1):\n",
    "    valor_izquierda = valores[i]\n",
    "    valor_derecha = valores[i+1] \n",
    "    if valor_derecha < valor_izquierda:\n",
    "        print('El valor de la accion del dia',i+2,'es decir, el dia',dias[j],', marca un retroceso con repecto al dia anterior desde',valor_izquierda,'a',valor_derecha) #PONGO i+2 PORQUE i HACE REFERENCIA AL VALOR DE LA IZQUIERDA, Y ADEMAS PYTHON EMPIEZA A CONTABILIZAR EN 0, POR LO QUE TENGO QUE AGREGAR +2\n",
    "    j +=1"
   ]
  },
  {
   "cell_type": "code",
   "execution_count": null,
   "metadata": {},
   "outputs": [],
   "source": [
    "#Averiguar como seria un COUNT\n",
    "\n",
    "for i in range(len(valores) - 1):\n",
    "    valor_izquierda = valores[i]\n",
    "    valor_derecha = valores[i+1] \n",
    "    count(valor_derecha < valor_izquierda)"
   ]
  }
 ],
 "metadata": {
  "kernelspec": {
   "display_name": "base",
   "language": "python",
   "name": "python3"
  },
  "language_info": {
   "codemirror_mode": {
    "name": "ipython",
    "version": 3
   },
   "file_extension": ".py",
   "mimetype": "text/x-python",
   "name": "python",
   "nbconvert_exporter": "python",
   "pygments_lexer": "ipython3",
   "version": "3.10.9"
  }
 },
 "nbformat": 4,
 "nbformat_minor": 2
}
