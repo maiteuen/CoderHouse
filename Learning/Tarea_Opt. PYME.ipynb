{
 "cells": [
  {
   "cell_type": "markdown",
   "metadata": {},
   "source": [
    "# Optimizando el stock para una PYME"
   ]
  },
  {
   "cell_type": "code",
   "execution_count": 2,
   "metadata": {},
   "outputs": [
    {
     "name": "stdout",
     "output_type": "stream",
     "text": [
      "<class 'list'>\n",
      "<class 'list'>\n",
      "200\n",
      "225\n",
      "232\n",
      "221\n",
      "243\n",
      "256\n",
      "255\n",
      "<class 'list'>\n",
      "{'Lunes': 200, 'Martes': 225, 'Miercoles': 232, 'Jueves': 221, 'Viernes': 243, 'Sabado': 256, 'Domingo': 255}\n",
      "[['Lunes', 'Martes', 'Miercoles', 'Jueves', 'Viernes', 'Sabado', 'Domingo']]\n"
     ]
    }
   ],
   "source": [
    "valores = [200, 225, 232, 221, 243, 256, 255]\n",
    "dias = ['Lunes','Martes','Miercoles','Jueves','Viernes','Sabado','Domingo']\n",
    "print(type(valores))\n",
    "print(type(dias))\n",
    "\n",
    "for i in valores:\n",
    "    print(i)\n",
    "\n",
    "valores_dias = dict(zip(dias,valores))\n",
    "print(type(dias))\n",
    "print(valores_dias)\n",
    "print([dias])"
   ]
  },
  {
   "cell_type": "code",
   "execution_count": 71,
   "metadata": {},
   "outputs": [
    {
     "name": "stdout",
     "output_type": "stream",
     "text": [
      "El valor de la accion del dia 4 es decir, el dia Jueves , marca un retroceso con repecto al dia anterior desde 232 a 221\n",
      "El valor de la accion del dia 7 es decir, el dia Domingo , marca un retroceso con repecto al dia anterior desde 256 a 255\n"
     ]
    }
   ],
   "source": [
    "j=1\n",
    "i=0\n",
    "for i in range(len(valores) - 1):\n",
    "    valor_izquierda = valores[i]\n",
    "    valor_derecha = valores[i+1] \n",
    "    if valor_derecha < valor_izquierda:\n",
    "        print('El valor de la accion del dia',i+2,'es decir, el dia',dias[j],', marca un retroceso con repecto al dia anterior desde',valor_izquierda,'a',valor_derecha) #PONGO i+2 PORQUE i HACE REFERENCIA AL VALOR DE LA IZQUIERDA, Y ADEMAS PYTHON EMPIEZA A CONTABILIZAR EN 0, POR LO QUE TENGO QUE AGREGAR +2\n",
    "    j +=1"
   ]
  },
  {
   "cell_type": "code",
   "execution_count": null,
   "metadata": {},
   "outputs": [],
   "source": [
    "#Averiguar como seria un COUNT\n",
    "\n",
    "for i in range(len(valores) - 1):\n",
    "    valor_izquierda = valores[i]\n",
    "    valor_derecha = valores[i+1] \n",
    "    count(valor_derecha < valor_izquierda)"
   ]
  },
  {
   "cell_type": "code",
   "execution_count": 2,
   "metadata": {},
   "outputs": [
    {
     "name": "stdout",
     "output_type": "stream",
     "text": [
      "1\n",
      "2\n",
      "3\n",
      "4\n",
      "5\n",
      "6\n",
      "7\n",
      "8\n",
      "9\n",
      "10\n"
     ]
    }
   ],
   "source": [
    "rango = range(1,11)\n",
    "for i in rango:\n",
    "    print(i)"
   ]
  },
  {
   "cell_type": "code",
   "execution_count": null,
   "metadata": {},
   "outputs": [],
   "source": [
    "for i in rango:\n",
    "    print(i)"
   ]
  },
  {
   "cell_type": "code",
   "execution_count": 4,
   "metadata": {},
   "outputs": [
    {
     "name": "stdout",
     "output_type": "stream",
     "text": [
      "9\n"
     ]
    }
   ],
   "source": [
    "lista = [3, 7, 2, 1, 9, 4]\n",
    "\n",
    "print(max(lista))"
   ]
  },
  {
   "cell_type": "code",
   "execution_count": 6,
   "metadata": {},
   "outputs": [
    {
     "name": "stdout",
     "output_type": "stream",
     "text": [
      "5\n",
      "10\n",
      "15\n",
      "20\n",
      "25\n",
      "30\n",
      "35\n",
      "40\n",
      "45\n"
     ]
    }
   ],
   "source": [
    "rango2 = range(1,10)\n",
    "for i in rango2:\n",
    "    print(i*5)"
   ]
  }
 ],
 "metadata": {
  "kernelspec": {
   "display_name": "base",
   "language": "python",
   "name": "python3"
  },
  "language_info": {
   "codemirror_mode": {
    "name": "ipython",
    "version": 3
   },
   "file_extension": ".py",
   "mimetype": "text/x-python",
   "name": "python",
   "nbconvert_exporter": "python",
   "pygments_lexer": "ipython3",
   "version": "3.12.5"
  }
 },
 "nbformat": 4,
 "nbformat_minor": 2
}
