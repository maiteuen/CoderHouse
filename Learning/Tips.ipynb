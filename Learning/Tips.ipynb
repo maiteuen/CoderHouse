{
 "cells": [
  {
   "cell_type": "markdown",
   "metadata": {},
   "source": [
    "## Importar API"
   ]
  },
  {
   "cell_type": "code",
   "execution_count": null,
   "metadata": {},
   "outputs": [],
   "source": [
    "import pandas as pd\n",
    "import requests\n",
    "import json\n",
    "\n",
    "url = 'https://analisis.datosabiertos.jcyl.es/api/explore/v2.1/catalog/datasets/consumo-de-electricidad-en-centros-de-la-administracion-autonomica-de-castilla-y/records'\n",
    "respuesta = requests.get(url)\n",
    "print(respuesta)\n",
    "\n",
    "texto = respuesta.text\n",
    "jsondata = json.loads(texto)\n",
    "\n",
    "df = pd.DataFrame(jsondata['results']) #LISTA DE LISTAS, LE INDICO POR CUAL INDICE COMENZAR\n",
    "df.head()"
   ]
  }
 ],
 "metadata": {
  "kernelspec": {
   "display_name": "base",
   "language": "python",
   "name": "python3"
  },
  "language_info": {
   "codemirror_mode": {
    "name": "ipython",
    "version": 3
   },
   "file_extension": ".py",
   "mimetype": "text/x-python",
   "name": "python",
   "nbconvert_exporter": "python",
   "pygments_lexer": "ipython3",
   "version": "3.10.9"
  }
 },
 "nbformat": 4,
 "nbformat_minor": 2
}
