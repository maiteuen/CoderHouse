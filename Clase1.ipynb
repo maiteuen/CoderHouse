{
 "cells": [
  {
   "cell_type": "code",
   "execution_count": 1,
   "metadata": {},
   "outputs": [
    {
     "data": {
      "text/plain": [
       "int"
      ]
     },
     "execution_count": 1,
     "metadata": {},
     "output_type": "execute_result"
    }
   ],
   "source": [
    "x=1\n",
    "type(x)"
   ]
  },
  {
   "cell_type": "code",
   "execution_count": 2,
   "metadata": {},
   "outputs": [
    {
     "name": "stdout",
     "output_type": "stream",
     "text": [
      "1\n",
      "Hola Mundo\n"
     ]
    }
   ],
   "source": [
    "print(x)\n",
    "x='Hola Mundo'\n",
    "print(x)"
   ]
  },
  {
   "cell_type": "code",
   "execution_count": 3,
   "metadata": {},
   "outputs": [
    {
     "name": "stdout",
     "output_type": "stream",
     "text": [
      "[1, 2, 3] [1, 2, 3]\n"
     ]
    }
   ],
   "source": [
    "x=[1,2,3]\n",
    "y=x\n",
    "print(x,y)"
   ]
  },
  {
   "cell_type": "code",
   "execution_count": 4,
   "metadata": {},
   "outputs": [
    {
     "name": "stdout",
     "output_type": "stream",
     "text": [
      "[1, 2, 3, 4]\n"
     ]
    }
   ],
   "source": [
    "x.append(4)\n",
    "print(y)"
   ]
  },
  {
   "cell_type": "code",
   "execution_count": 5,
   "metadata": {},
   "outputs": [
    {
     "name": "stdout",
     "output_type": "stream",
     "text": [
      "5 [1, 2, 3, 4]\n"
     ]
    }
   ],
   "source": [
    "x=5\n",
    "print(x,y)"
   ]
  },
  {
   "cell_type": "code",
   "execution_count": 2,
   "metadata": {},
   "outputs": [],
   "source": [
    "dato_num = 8\n",
    "dato_float = 10.22\n",
    "dato_booleano_1 = True\n",
    "dato_boolerano_2 = False\n",
    "dato_string = 'Soy Maite'"
   ]
  },
  {
   "cell_type": "markdown",
   "metadata": {},
   "source": [
    "Aca, comentando el codigo."
   ]
  },
  {
   "cell_type": "code",
   "execution_count": 3,
   "metadata": {},
   "outputs": [
    {
     "name": "stdout",
     "output_type": "stream",
     "text": [
      "8\n",
      "<class 'int'>\n"
     ]
    }
   ],
   "source": [
    "print(dato_num)\n",
    "print(type(dato_num))"
   ]
  },
  {
   "cell_type": "markdown",
   "metadata": {},
   "source": [
    "# Datos Estructurados"
   ]
  },
  {
   "cell_type": "code",
   "execution_count": 7,
   "metadata": {},
   "outputs": [
    {
     "name": "stdout",
     "output_type": "stream",
     "text": [
      "Maite\n",
      "<class 'dict'>\n"
     ]
    }
   ],
   "source": [
    "#Datos Estructurados\n",
    "#Diccionario --> CON LLAVES\n",
    "persona = {'nombre':'Maite', 'edad': 27, 'profesion': 'Ingeniera Industrial'}\n",
    "print(persona['nombre'])\n",
    "print(type(persona))"
   ]
  },
  {
   "cell_type": "code",
   "execution_count": 20,
   "metadata": {},
   "outputs": [
    {
     "name": "stdout",
     "output_type": "stream",
     "text": [
      "<class 'list'>\n",
      "1\n",
      "hola\n",
      "5.05\n",
      "6\n",
      "cambiado\n"
     ]
    }
   ],
   "source": [
    "#Listas --> con corchetes\n",
    "#PYTHON EMPIEZA CONTANDO DESDE 0 (CERO)\n",
    "mi_lista = [1,2,3,'cuatro',5.05,'hola']\n",
    "print(type(mi_lista))\n",
    "print(mi_lista[0])\n",
    "print(mi_lista[-1]) #MUESTRA EL ULTIMO\n",
    "print(mi_lista[-2]) #MUESTRA EL ANTEULTIMO\n",
    "print(len(mi_lista)) #MUESTRA CANTIDAD DE VALORES DE LA LISTA\n",
    "mi_lista[3] = 'cambiado' #PARA CAMBIAR VALORES\n",
    "print(mi_lista[3])"
   ]
  },
  {
   "cell_type": "code",
   "execution_count": 22,
   "metadata": {},
   "outputs": [
    {
     "name": "stdout",
     "output_type": "stream",
     "text": [
      "<class 'tuple'>\n"
     ]
    },
    {
     "ename": "TypeError",
     "evalue": "'tuple' object does not support item assignment",
     "output_type": "error",
     "traceback": [
      "\u001b[1;31m---------------------------------------------------------------------------\u001b[0m",
      "\u001b[1;31mTypeError\u001b[0m                                 Traceback (most recent call last)",
      "Cell \u001b[1;32mIn[22], line 4\u001b[0m\n\u001b[0;32m      2\u001b[0m mi_tupla \u001b[38;5;241m=\u001b[39m (\u001b[38;5;241m1\u001b[39m,\u001b[38;5;241m2\u001b[39m,\u001b[38;5;241m3\u001b[39m,\u001b[38;5;124m'\u001b[39m\u001b[38;5;124mcuatro\u001b[39m\u001b[38;5;124m'\u001b[39m)\n\u001b[0;32m      3\u001b[0m \u001b[38;5;28mprint\u001b[39m(\u001b[38;5;28mtype\u001b[39m(mi_tupla))\n\u001b[1;32m----> 4\u001b[0m mi_tupla[\u001b[38;5;241m0\u001b[39m] \u001b[38;5;241m=\u001b[39m \u001b[38;5;124m'\u001b[39m\u001b[38;5;124mcambio\u001b[39m\u001b[38;5;124m'\u001b[39m\n",
      "\u001b[1;31mTypeError\u001b[0m: 'tuple' object does not support item assignment"
     ]
    }
   ],
   "source": [
    "#Tuplas --> CON PARENTESIS\n",
    "mi_tupla = (1,2,3,'cuatro')\n",
    "print(type(mi_tupla))\n",
    "mi_tupla[0] = 'cambio' # --> NO SE PUEDE MODIFICAR UNA TUPLA "
   ]
  },
  {
   "cell_type": "markdown",
   "metadata": {},
   "source": [
    "# Estructuras de Control\n",
    "\n",
    "* **FOR**\n",
    "* **WHILE**\n",
    "* **IF**"
   ]
  },
  {
   "cell_type": "code",
   "execution_count": 29,
   "metadata": {},
   "outputs": [
    {
     "name": "stdout",
     "output_type": "stream",
     "text": [
      "Primer Elemento: 1\n",
      "Quinto Elemento: 7\n"
     ]
    }
   ],
   "source": [
    "# FOR\n",
    "rango = range(1,10)\n",
    "type(rango)\n",
    "print('Primer Elemento:',rango[0])\n",
    "print('Quinto Elemento:',rango[6])"
   ]
  },
  {
   "cell_type": "code",
   "execution_count": 37,
   "metadata": {},
   "outputs": [
    {
     "name": "stdout",
     "output_type": "stream",
     "text": [
      "1\n",
      "2\n",
      "3\n",
      "4\n",
      "5\n",
      "6\n",
      "7\n",
      "8\n",
      "9\n",
      "\n",
      "2\n",
      "3\n",
      "4\n",
      "5\n",
      "6\n",
      "7\n",
      "8\n",
      "9\n",
      "10\n",
      "9 10\n"
     ]
    }
   ],
   "source": [
    "#Bucle con FOR\n",
    "for i in rango:\n",
    "    print(i)\n",
    "\n",
    "print('')\n",
    "#Bucle\n",
    "for i in rango:\n",
    "    a = i + 1\n",
    "    print(a)"
   ]
  },
  {
   "cell_type": "code",
   "execution_count": 40,
   "metadata": {},
   "outputs": [
    {
     "name": "stdout",
     "output_type": "stream",
     "text": [
      "2 3\n",
      "3 4\n",
      "4 5\n",
      "5 6\n",
      "6 7\n",
      "7 8\n",
      "8 9\n",
      "9 10\n",
      "10 11\n"
     ]
    }
   ],
   "source": [
    "for i in rango:\n",
    "    a = i + 1\n",
    "    b = a + 1\n",
    "    print(a,b)"
   ]
  },
  {
   "cell_type": "code",
   "execution_count": 41,
   "metadata": {},
   "outputs": [
    {
     "name": "stdout",
     "output_type": "stream",
     "text": [
      "1\n",
      "2\n",
      "3\n",
      "4\n",
      "5\n"
     ]
    }
   ],
   "source": [
    "#Bucle con WHILE\n",
    "s = 1\n",
    "while s <= 5:\n",
    "    print(s)\n",
    "    s = s + 1"
   ]
  },
  {
   "cell_type": "code",
   "execution_count": 43,
   "metadata": {},
   "outputs": [
    {
     "name": "stdout",
     "output_type": "stream",
     "text": [
      "Es menor a 9\n"
     ]
    }
   ],
   "source": [
    "# IF\n",
    "prueba = 8\n",
    "if prueba < 5:\n",
    "    print('Es menor a 5')\n",
    "elif prueba < 9:                #CUANDO TENGO UN IF DENTRO DE UN IF\n",
    "    print('Es menor a 9')\n",
    "else:\n",
    "    print('Es mayor o igual a 9')\n"
   ]
  },
  {
   "cell_type": "code",
   "execution_count": 45,
   "metadata": {},
   "outputs": [
    {
     "name": "stdout",
     "output_type": "stream",
     "text": [
      "Primer grupo 1\n",
      "Primer grupo 2\n",
      "Primer grupo 3\n",
      "Primer grupo 4\n",
      "otra cosa 10\n",
      "otra cosa 12\n",
      "final 49\n",
      "final 64\n",
      "final 81\n"
     ]
    }
   ],
   "source": [
    "# FOR + IF\n",
    "for i in rango:\n",
    "    if i <= 4:\n",
    "        print('Primer grupo', i)\n",
    "    elif i <=6:\n",
    "        print('otra cosa',i*2)\n",
    "    else:\n",
    "        print('final',i**2)"
   ]
  },
  {
   "cell_type": "markdown",
   "metadata": {},
   "source": [
    "# EN PYTHON SON CLAVES LOS DOS PUNTOS, NO VAN LOS PUNTOS Y COMAS"
   ]
  },
  {
   "cell_type": "markdown",
   "metadata": {},
   "source": [
    "## FUNCIONES"
   ]
  },
  {
   "cell_type": "code",
   "execution_count": 46,
   "metadata": {},
   "outputs": [],
   "source": [
    "def mi_funcion(argumento_1,argumento_2): #--> ES COMO SI FUESE UN F(X)\n",
    "    resultado_1 = argumento_1 * 2\n",
    "    resultado_2 = argumento_2 / 3\n",
    "    resultado_final = resultado_1 - resultado_2\n",
    "    return resultado_final\n",
    "\n",
    "\n",
    "def funcion(<parametros>):\n",
    "    <codigo>\n",
    "    return <data>"
   ]
  },
  {
   "cell_type": "code",
   "execution_count": 47,
   "metadata": {},
   "outputs": [
    {
     "data": {
      "text/plain": [
       "18.666666666666668"
      ]
     },
     "execution_count": 47,
     "metadata": {},
     "output_type": "execute_result"
    }
   ],
   "source": [
    "# Aplicando la funcion (llamando a la funcion)\n",
    "mi_funcion(10,4)"
   ]
  },
  {
   "cell_type": "code",
   "execution_count": 53,
   "metadata": {},
   "outputs": [],
   "source": [
    "def funcion_clasificadora(x):       #UNA FUNCION NO ES NECESARIAMENTE NUMERICA\n",
    "    if x <= 4:\n",
    "        resultado = 'Primer grupo ' + str(x)\n",
    "    elif x <=6:\n",
    "        resultado = 'otra cosa'  + str(x*2)\n",
    "    else:\n",
    "        resultado = 'final '+ str(x**2)\n",
    "    \n",
    "\n",
    "    return resultado\n"
   ]
  },
  {
   "cell_type": "code",
   "execution_count": 54,
   "metadata": {},
   "outputs": [
    {
     "data": {
      "text/plain": [
       "'final 10000'"
      ]
     },
     "execution_count": 54,
     "metadata": {},
     "output_type": "execute_result"
    }
   ],
   "source": [
    "funcion_clasificadora(100)"
   ]
  },
  {
   "cell_type": "code",
   "execution_count": 55,
   "metadata": {},
   "outputs": [
    {
     "name": "stdout",
     "output_type": "stream",
     "text": [
      "Primer grupo 1\n",
      "Primer grupo 2\n",
      "Primer grupo 3\n",
      "Primer grupo 4\n",
      "otra cosa10\n",
      "otra cosa12\n",
      "final 49\n",
      "final 64\n",
      "final 81\n"
     ]
    }
   ],
   "source": [
    "for i in rango:\n",
    "    print(funcion_clasificadora(i))"
   ]
  }
 ],
 "metadata": {
  "kernelspec": {
   "display_name": "base",
   "language": "python",
   "name": "python3"
  },
  "language_info": {
   "codemirror_mode": {
    "name": "ipython",
    "version": 3
   },
   "file_extension": ".py",
   "mimetype": "text/x-python",
   "name": "python",
   "nbconvert_exporter": "python",
   "pygments_lexer": "ipython3",
   "version": "3.10.9"
  }
 },
 "nbformat": 4,
 "nbformat_minor": 2
}
