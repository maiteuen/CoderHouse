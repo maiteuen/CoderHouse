{
 "cells": [
  {
   "cell_type": "code",
   "execution_count": 43,
   "metadata": {},
   "outputs": [
    {
     "data": {
      "text/html": [
       "        <script type=\"text/javascript\">\n",
       "        window.PlotlyConfig = {MathJaxConfig: 'local'};\n",
       "        if (window.MathJax && window.MathJax.Hub && window.MathJax.Hub.Config) {window.MathJax.Hub.Config({SVG: {font: \"STIX-Web\"}});}\n",
       "        if (typeof require !== 'undefined') {\n",
       "        require.undef(\"plotly\");\n",
       "        requirejs.config({\n",
       "            paths: {\n",
       "                'plotly': ['https://cdn.plot.ly/plotly-2.12.1.min']\n",
       "            }\n",
       "        });\n",
       "        require(['plotly'], function(Plotly) {\n",
       "            window._Plotly = Plotly;\n",
       "        });\n",
       "        }\n",
       "        </script>\n",
       "        "
      ]
     },
     "metadata": {},
     "output_type": "display_data"
    }
   ],
   "source": [
    "import numpy as np\n",
    "import pandas as pd\n",
    "import matplotlib.pyplot as plt\n",
    "import plotly.graph_objs as go\n",
    "from plotly.offline import init_notebook_mode, iplot, plot\n",
    "init_notebook_mode(connected='true')\n",
    "import os\n",
    "import datetime \n",
    "from prophet import Prophet"
   ]
  },
  {
   "cell_type": "code",
   "execution_count": 44,
   "metadata": {},
   "outputs": [
    {
     "data": {
      "text/html": [
       "<div>\n",
       "<style scoped>\n",
       "    .dataframe tbody tr th:only-of-type {\n",
       "        vertical-align: middle;\n",
       "    }\n",
       "\n",
       "    .dataframe tbody tr th {\n",
       "        vertical-align: top;\n",
       "    }\n",
       "\n",
       "    .dataframe thead th {\n",
       "        text-align: right;\n",
       "    }\n",
       "</style>\n",
       "<table border=\"1\" class=\"dataframe\">\n",
       "  <thead>\n",
       "    <tr style=\"text-align: right;\">\n",
       "      <th></th>\n",
       "      <th>TIPO DE CENTRO DE CONSUMO</th>\n",
       "      <th>MUNICIPIO</th>\n",
       "      <th>TIPO SUMINISTRO ELÉCTRICO</th>\n",
       "      <th>FECHA</th>\n",
       "      <th>CONSUMO MENSUAL ENERGÍA ACTIVA (kWh)</th>\n",
       "      <th>P1 (kW)</th>\n",
       "      <th>P2 (kW)</th>\n",
       "      <th>P3 (kW)</th>\n",
       "      <th>P4 (kW)</th>\n",
       "      <th>P5 (kW)</th>\n",
       "      <th>P6 (kW)</th>\n",
       "    </tr>\n",
       "  </thead>\n",
       "  <tbody>\n",
       "    <tr>\n",
       "      <th>0</th>\n",
       "      <td>EDIFICIO CALEFACTADO</td>\n",
       "      <td>VALLADOLID</td>\n",
       "      <td>Principal</td>\n",
       "      <td>2024-06</td>\n",
       "      <td>38288</td>\n",
       "      <td>254.0</td>\n",
       "      <td>254.0</td>\n",
       "      <td>254.0</td>\n",
       "      <td>254.0</td>\n",
       "      <td>254.0</td>\n",
       "      <td>345.0</td>\n",
       "    </tr>\n",
       "    <tr>\n",
       "      <th>1</th>\n",
       "      <td>EDIFICIO CALEFACTADO</td>\n",
       "      <td>VALLADOLID</td>\n",
       "      <td>Principal</td>\n",
       "      <td>2024-06</td>\n",
       "      <td>24574</td>\n",
       "      <td>80.0</td>\n",
       "      <td>80.0</td>\n",
       "      <td>80.0</td>\n",
       "      <td>80.0</td>\n",
       "      <td>122.0</td>\n",
       "      <td>140.0</td>\n",
       "    </tr>\n",
       "    <tr>\n",
       "      <th>2</th>\n",
       "      <td>DELEGACION TERRITORIAL</td>\n",
       "      <td>SALAMANCA</td>\n",
       "      <td>Principal</td>\n",
       "      <td>2024-06</td>\n",
       "      <td>101265</td>\n",
       "      <td>396.0</td>\n",
       "      <td>396.0</td>\n",
       "      <td>396.0</td>\n",
       "      <td>396.0</td>\n",
       "      <td>396.0</td>\n",
       "      <td>680.0</td>\n",
       "    </tr>\n",
       "    <tr>\n",
       "      <th>3</th>\n",
       "      <td>DELEGACION TERRITORIAL</td>\n",
       "      <td>SORIA</td>\n",
       "      <td>Principal</td>\n",
       "      <td>2024-06</td>\n",
       "      <td>38922</td>\n",
       "      <td>180.0</td>\n",
       "      <td>180.0</td>\n",
       "      <td>180.0</td>\n",
       "      <td>180.0</td>\n",
       "      <td>180.0</td>\n",
       "      <td>451.0</td>\n",
       "    </tr>\n",
       "    <tr>\n",
       "      <th>4</th>\n",
       "      <td>NaN</td>\n",
       "      <td>VALLADOLID</td>\n",
       "      <td>Principal</td>\n",
       "      <td>2024-06</td>\n",
       "      <td>43191</td>\n",
       "      <td>380.0</td>\n",
       "      <td>380.0</td>\n",
       "      <td>380.0</td>\n",
       "      <td>380.0</td>\n",
       "      <td>380.0</td>\n",
       "      <td>380.0</td>\n",
       "    </tr>\n",
       "  </tbody>\n",
       "</table>\n",
       "</div>"
      ],
      "text/plain": [
       "  TIPO DE CENTRO DE CONSUMO   MUNICIPIO TIPO SUMINISTRO ELÉCTRICO    FECHA  \\\n",
       "0      EDIFICIO CALEFACTADO  VALLADOLID                 Principal  2024-06   \n",
       "1      EDIFICIO CALEFACTADO  VALLADOLID                 Principal  2024-06   \n",
       "2    DELEGACION TERRITORIAL   SALAMANCA                 Principal  2024-06   \n",
       "3    DELEGACION TERRITORIAL       SORIA                 Principal  2024-06   \n",
       "4                       NaN  VALLADOLID                 Principal  2024-06   \n",
       "\n",
       "   CONSUMO MENSUAL ENERGÍA ACTIVA (kWh)  P1 (kW)  P2 (kW)  P3 (kW)   P4 (kW)  \\\n",
       "0                                 38288    254.0    254.0     254.0    254.0   \n",
       "1                                 24574     80.0     80.0      80.0     80.0   \n",
       "2                                101265    396.0    396.0     396.0    396.0   \n",
       "3                                 38922    180.0    180.0     180.0    180.0   \n",
       "4                                 43191    380.0    380.0     380.0    380.0   \n",
       "\n",
       "   P5 (kW)  P6 (kW)  \n",
       "0    254.0    345.0  \n",
       "1    122.0    140.0  \n",
       "2    396.0    680.0  \n",
       "3    180.0    451.0  \n",
       "4    380.0    380.0  "
      ]
     },
     "execution_count": 44,
     "metadata": {},
     "output_type": "execute_result"
    }
   ],
   "source": [
    "df = pd.read_excel(r'C:\\Users\\Maite\\Downloads\\consumo-de-electricidad-en-centros-de-la-administracion-autonomica-de-castilla-y.xlsx', parse_dates=True)\n",
    "df.head()"
   ]
  },
  {
   "cell_type": "code",
   "execution_count": 45,
   "metadata": {},
   "outputs": [
    {
     "data": {
      "text/plain": [
       "TIPO DE CENTRO DE CONSUMO                object\n",
       "MUNICIPIO                                object\n",
       "TIPO SUMINISTRO ELÉCTRICO                object\n",
       "FECHA                                    object\n",
       "CONSUMO MENSUAL ENERGÍA ACTIVA (kWh)      int64\n",
       "P1 (kW)                                 float64\n",
       "P2 (kW)                                 float64\n",
       "P3 (kW)                                 float64\n",
       "P4 (kW)                                 float64\n",
       "P5 (kW)                                 float64\n",
       "P6 (kW)                                 float64\n",
       "dtype: object"
      ]
     },
     "execution_count": 45,
     "metadata": {},
     "output_type": "execute_result"
    }
   ],
   "source": [
    "df.dtypes"
   ]
  },
  {
   "cell_type": "code",
   "execution_count": 46,
   "metadata": {},
   "outputs": [],
   "source": [
    "df['FECHA'] = pd.to_datetime(df['FECHA'])"
   ]
  },
  {
   "cell_type": "code",
   "execution_count": 47,
   "metadata": {},
   "outputs": [
    {
     "data": {
      "text/plain": [
       "TIPO DE CENTRO DE CONSUMO                       object\n",
       "MUNICIPIO                                       object\n",
       "TIPO SUMINISTRO ELÉCTRICO                       object\n",
       "FECHA                                   datetime64[ns]\n",
       "CONSUMO MENSUAL ENERGÍA ACTIVA (kWh)             int64\n",
       "P1 (kW)                                        float64\n",
       "P2 (kW)                                        float64\n",
       "P3 (kW)                                        float64\n",
       "P4 (kW)                                        float64\n",
       "P5 (kW)                                        float64\n",
       "P6 (kW)                                        float64\n",
       "dtype: object"
      ]
     },
     "execution_count": 47,
     "metadata": {},
     "output_type": "execute_result"
    }
   ],
   "source": [
    "df.dtypes"
   ]
  },
  {
   "cell_type": "code",
   "execution_count": 48,
   "metadata": {},
   "outputs": [
    {
     "data": {
      "text/html": [
       "<div>\n",
       "<style scoped>\n",
       "    .dataframe tbody tr th:only-of-type {\n",
       "        vertical-align: middle;\n",
       "    }\n",
       "\n",
       "    .dataframe tbody tr th {\n",
       "        vertical-align: top;\n",
       "    }\n",
       "\n",
       "    .dataframe thead th {\n",
       "        text-align: right;\n",
       "    }\n",
       "</style>\n",
       "<table border=\"1\" class=\"dataframe\">\n",
       "  <thead>\n",
       "    <tr style=\"text-align: right;\">\n",
       "      <th></th>\n",
       "      <th>FECHA</th>\n",
       "      <th>CONSUMO MENSUAL ENERGÍA ACTIVA (kWh)</th>\n",
       "    </tr>\n",
       "  </thead>\n",
       "  <tbody>\n",
       "    <tr>\n",
       "      <th>0</th>\n",
       "      <td>2024-06-01</td>\n",
       "      <td>38288</td>\n",
       "    </tr>\n",
       "    <tr>\n",
       "      <th>1</th>\n",
       "      <td>2024-06-01</td>\n",
       "      <td>24574</td>\n",
       "    </tr>\n",
       "    <tr>\n",
       "      <th>2</th>\n",
       "      <td>2024-06-01</td>\n",
       "      <td>101265</td>\n",
       "    </tr>\n",
       "    <tr>\n",
       "      <th>3</th>\n",
       "      <td>2024-06-01</td>\n",
       "      <td>38922</td>\n",
       "    </tr>\n",
       "    <tr>\n",
       "      <th>4</th>\n",
       "      <td>2024-06-01</td>\n",
       "      <td>43191</td>\n",
       "    </tr>\n",
       "  </tbody>\n",
       "</table>\n",
       "</div>"
      ],
      "text/plain": [
       "       FECHA  CONSUMO MENSUAL ENERGÍA ACTIVA (kWh)\n",
       "0 2024-06-01                                 38288\n",
       "1 2024-06-01                                 24574\n",
       "2 2024-06-01                                101265\n",
       "3 2024-06-01                                 38922\n",
       "4 2024-06-01                                 43191"
      ]
     },
     "execution_count": 48,
     "metadata": {},
     "output_type": "execute_result"
    }
   ],
   "source": [
    "df_model = df[['FECHA','CONSUMO MENSUAL ENERGÍA ACTIVA (kWh)']].copy()\n",
    "df_model.head()"
   ]
  },
  {
   "cell_type": "code",
   "execution_count": 49,
   "metadata": {},
   "outputs": [
    {
     "name": "stdout",
     "output_type": "stream",
     "text": [
      "<class 'pandas._libs.tslibs.timestamps.Timestamp'>\n"
     ]
    }
   ],
   "source": [
    "split_date = '2023-05'\n",
    "split_date = pd.to_datetime(split_date)\n",
    "df_model.reset_index(inplace=True)\n",
    "df_model.rename(columns={'FECHA':'ds','CONSUMO MENSUAL ENERGÍA ACTIVA (kWh)':'y'},inplace=True)\n",
    "\n",
    "print(type(split_date))"
   ]
  },
  {
   "cell_type": "code",
   "execution_count": 50,
   "metadata": {},
   "outputs": [],
   "source": [
    "df_train = df_model[df_model['ds'] < split_date]\n",
    "df_test = df_model[df_model['ds'] > split_date]"
   ]
  },
  {
   "cell_type": "code",
   "execution_count": 51,
   "metadata": {},
   "outputs": [
    {
     "ename": "AttributeError",
     "evalue": "'Prophet' object has no attribute 'stan_backend'",
     "output_type": "error",
     "traceback": [
      "\u001b[1;31m---------------------------------------------------------------------------\u001b[0m",
      "\u001b[1;31mAttributeError\u001b[0m                            Traceback (most recent call last)",
      "Cell \u001b[1;32mIn[51], line 1\u001b[0m\n\u001b[1;32m----> 1\u001b[0m prophet \u001b[38;5;241m=\u001b[39m \u001b[43mProphet\u001b[49m\u001b[43m(\u001b[49m\u001b[43m)\u001b[49m\n",
      "File \u001b[1;32mc:\\Users\\Maite\\anaconda3\\lib\\site-packages\\prophet\\forecaster.py:155\u001b[0m, in \u001b[0;36mProphet.__init__\u001b[1;34m(self, growth, changepoints, n_changepoints, changepoint_range, yearly_seasonality, weekly_seasonality, daily_seasonality, holidays, seasonality_mode, seasonality_prior_scale, holidays_prior_scale, changepoint_prior_scale, mcmc_samples, interval_width, uncertainty_samples, stan_backend, scaling, holidays_mode)\u001b[0m\n\u001b[0;32m    153\u001b[0m \u001b[38;5;28mself\u001b[39m\u001b[38;5;241m.\u001b[39mfit_kwargs \u001b[38;5;241m=\u001b[39m {}\n\u001b[0;32m    154\u001b[0m \u001b[38;5;28mself\u001b[39m\u001b[38;5;241m.\u001b[39mvalidate_inputs()\n\u001b[1;32m--> 155\u001b[0m \u001b[38;5;28;43mself\u001b[39;49m\u001b[38;5;241;43m.\u001b[39;49m\u001b[43m_load_stan_backend\u001b[49m\u001b[43m(\u001b[49m\u001b[43mstan_backend\u001b[49m\u001b[43m)\u001b[49m\n",
      "File \u001b[1;32mc:\\Users\\Maite\\anaconda3\\lib\\site-packages\\prophet\\forecaster.py:168\u001b[0m, in \u001b[0;36mProphet._load_stan_backend\u001b[1;34m(self, stan_backend)\u001b[0m\n\u001b[0;32m    165\u001b[0m \u001b[38;5;28;01melse\u001b[39;00m:\n\u001b[0;32m    166\u001b[0m     \u001b[38;5;28mself\u001b[39m\u001b[38;5;241m.\u001b[39mstan_backend \u001b[38;5;241m=\u001b[39m StanBackendEnum\u001b[38;5;241m.\u001b[39mget_backend_class(stan_backend)()\n\u001b[1;32m--> 168\u001b[0m logger\u001b[38;5;241m.\u001b[39mdebug(\u001b[38;5;124m\"\u001b[39m\u001b[38;5;124mLoaded stan backend: \u001b[39m\u001b[38;5;132;01m%s\u001b[39;00m\u001b[38;5;124m\"\u001b[39m, \u001b[38;5;28;43mself\u001b[39;49m\u001b[38;5;241;43m.\u001b[39;49m\u001b[43mstan_backend\u001b[49m\u001b[38;5;241m.\u001b[39mget_type())\n",
      "\u001b[1;31mAttributeError\u001b[0m: 'Prophet' object has no attribute 'stan_backend'"
     ]
    }
   ],
   "source": [
    "prophet = Prophet()"
   ]
  }
 ],
 "metadata": {
  "kernelspec": {
   "display_name": "base",
   "language": "python",
   "name": "python3"
  },
  "language_info": {
   "codemirror_mode": {
    "name": "ipython",
    "version": 3
   },
   "file_extension": ".py",
   "mimetype": "text/x-python",
   "name": "python",
   "nbconvert_exporter": "python",
   "pygments_lexer": "ipython3",
   "version": "3.10.9"
  }
 },
 "nbformat": 4,
 "nbformat_minor": 2
}
